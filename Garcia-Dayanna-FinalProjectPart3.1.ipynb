{
 "cells": [
  {
   "cell_type": "markdown",
   "id": "c8c514c0",
   "metadata": {},
   "source": [
    "# Relationships In Agencies: Position Title, Employees and Pay Rate"
   ]
  },
  {
   "cell_type": "code",
   "execution_count": 6,
   "id": "2e2d2e2c",
   "metadata": {},
   "outputs": [],
   "source": [
    "import matplotlib.pyplot as plt\n",
    "import numpy as np \n",
    "import pandas as pd \n",
    "import ipywidgets \n",
    "import matplotlib"
   ]
  },
  {
   "cell_type": "code",
   "execution_count": 7,
   "id": "ecdb92e5",
   "metadata": {},
   "outputs": [],
   "source": [
    "dataset = pd.read_csv('f823a40d-77f9-4b12-9d1c-5cd0c31905e9.csv')"
   ]
  },
  {
   "cell_type": "code",
   "execution_count": 8,
   "id": "ffb3ab76",
   "metadata": {},
   "outputs": [
    {
     "data": {
      "text/html": [
       "<div>\n",
       "<style scoped>\n",
       "    .dataframe tbody tr th:only-of-type {\n",
       "        vertical-align: middle;\n",
       "    }\n",
       "\n",
       "    .dataframe tbody tr th {\n",
       "        vertical-align: top;\n",
       "    }\n",
       "\n",
       "    .dataframe thead th {\n",
       "        text-align: right;\n",
       "    }\n",
       "</style>\n",
       "<table border=\"1\" class=\"dataframe\">\n",
       "  <thead>\n",
       "    <tr style=\"text-align: right;\">\n",
       "      <th></th>\n",
       "      <th>_id</th>\n",
       "      <th>Id</th>\n",
       "      <th>Agency</th>\n",
       "      <th>Agency Division</th>\n",
       "      <th>Employee Name</th>\n",
       "      <th>Position Title</th>\n",
       "      <th>Period Pay Rate</th>\n",
       "      <th>YTD Gross</th>\n",
       "    </tr>\n",
       "  </thead>\n",
       "  <tbody>\n",
       "    <tr>\n",
       "      <th>0</th>\n",
       "      <td>1</td>\n",
       "      <td>7B37671243835EDF2C992B2B789BD72D6884A354</td>\n",
       "      <td>ABE LINCOLN PRES LIBRARY &amp; MUS</td>\n",
       "      <td>ALPLM FTE EMPLOYEES</td>\n",
       "      <td>DARIAN FERNANDES</td>\n",
       "      <td>ACCOUNT TECHNICIAN II</td>\n",
       "      <td>2100</td>\n",
       "      <td>48400</td>\n",
       "    </tr>\n",
       "    <tr>\n",
       "      <th>1</th>\n",
       "      <td>2</td>\n",
       "      <td>83E3036CA1877343E75840D4FAF0851620AC0772</td>\n",
       "      <td>ABE LINCOLN PRES LIBRARY &amp; MUS</td>\n",
       "      <td>ALPLM FTE EMPLOYEES</td>\n",
       "      <td>AUSTIN FRIEDMEYER</td>\n",
       "      <td>BUILDING/GROUNDS LABORER</td>\n",
       "      <td>800</td>\n",
       "      <td>60400</td>\n",
       "    </tr>\n",
       "    <tr>\n",
       "      <th>2</th>\n",
       "      <td>3</td>\n",
       "      <td>C9145979C7A394C6CB58A5E7CC0445C9E3B7F652</td>\n",
       "      <td>ABE LINCOLN PRES LIBRARY &amp; MUS</td>\n",
       "      <td>ALPLM FTE EMPLOYEES</td>\n",
       "      <td>BRIAN DANAHA</td>\n",
       "      <td>BUILDING/GROUNDS LABORER</td>\n",
       "      <td>2000</td>\n",
       "      <td>45000</td>\n",
       "    </tr>\n",
       "    <tr>\n",
       "      <th>3</th>\n",
       "      <td>4</td>\n",
       "      <td>761AFAC85C27CFFB38943C3573A574960471879A</td>\n",
       "      <td>ABE LINCOLN PRES LIBRARY &amp; MUS</td>\n",
       "      <td>ALPLM FTE EMPLOYEES</td>\n",
       "      <td>HAROLD STURM</td>\n",
       "      <td>BUILDING/GROUNDS LABORER</td>\n",
       "      <td>2100</td>\n",
       "      <td>42500</td>\n",
       "    </tr>\n",
       "    <tr>\n",
       "      <th>4</th>\n",
       "      <td>5</td>\n",
       "      <td>7F5E7E1B041BD896327FE8577935B1503CF0A53F</td>\n",
       "      <td>ABE LINCOLN PRES LIBRARY &amp; MUS</td>\n",
       "      <td>ALPLM FTE EMPLOYEES</td>\n",
       "      <td>STEVE FALICA</td>\n",
       "      <td>BUILDING/GROUNDS LABORER</td>\n",
       "      <td>2600</td>\n",
       "      <td>78600</td>\n",
       "    </tr>\n",
       "    <tr>\n",
       "      <th>...</th>\n",
       "      <td>...</td>\n",
       "      <td>...</td>\n",
       "      <td>...</td>\n",
       "      <td>...</td>\n",
       "      <td>...</td>\n",
       "      <td>...</td>\n",
       "      <td>...</td>\n",
       "      <td>...</td>\n",
       "    </tr>\n",
       "    <tr>\n",
       "      <th>58171</th>\n",
       "      <td>58172</td>\n",
       "      <td>F48D49C2939AF86A653C0FA9C49553EC2DB32DE8</td>\n",
       "      <td>VETERANS' AFFAIRS</td>\n",
       "      <td>VETERANS SERVICE OFFICE</td>\n",
       "      <td>TYLER JANIAK</td>\n",
       "      <td>VETERANS SERVICE OFFICER</td>\n",
       "      <td>3000</td>\n",
       "      <td>62000</td>\n",
       "    </tr>\n",
       "    <tr>\n",
       "      <th>58172</th>\n",
       "      <td>58173</td>\n",
       "      <td>F1E4F0385AE921EB7D488EFDAD2D452CC08ED6DA</td>\n",
       "      <td>VETERANS' AFFAIRS</td>\n",
       "      <td>VETERANS SERVICE OFFICE</td>\n",
       "      <td>WALTER WILSON</td>\n",
       "      <td>VETERANS SERVICE OFFICER</td>\n",
       "      <td>3000</td>\n",
       "      <td>62100</td>\n",
       "    </tr>\n",
       "    <tr>\n",
       "      <th>58173</th>\n",
       "      <td>58174</td>\n",
       "      <td>F8D2ECB56B180A9FD5665406B1906801CB77A581</td>\n",
       "      <td>VETERANS' AFFAIRS</td>\n",
       "      <td>VETERANS SERVICE OFFICE</td>\n",
       "      <td>WILLIAM ILLA</td>\n",
       "      <td>VETERANS SERVICE OFFICER</td>\n",
       "      <td>2500</td>\n",
       "      <td>51700</td>\n",
       "    </tr>\n",
       "    <tr>\n",
       "      <th>58174</th>\n",
       "      <td>58175</td>\n",
       "      <td>6284E5BF5D8C6466C53F207D2464E3C9AE759812</td>\n",
       "      <td>VETERANS' AFFAIRS</td>\n",
       "      <td>VETERANS SERVICE OFFICE</td>\n",
       "      <td>WILLIAM LINDER</td>\n",
       "      <td>VETERANS SERVICE OFFICER</td>\n",
       "      <td>2100</td>\n",
       "      <td>42700</td>\n",
       "    </tr>\n",
       "    <tr>\n",
       "      <th>58175</th>\n",
       "      <td>58176</td>\n",
       "      <td>57F541F2E39A7C060E8357E2D93192607B2F7378</td>\n",
       "      <td>VETERANS' AFFAIRS</td>\n",
       "      <td>VETERANS SERVICE OFFICE</td>\n",
       "      <td>ZACHARY GRATTAN</td>\n",
       "      <td>VETERANS SERVICE OFFICER</td>\n",
       "      <td>3000</td>\n",
       "      <td>62100</td>\n",
       "    </tr>\n",
       "  </tbody>\n",
       "</table>\n",
       "<p>58176 rows × 8 columns</p>\n",
       "</div>"
      ],
      "text/plain": [
       "         _id                                        Id  \\\n",
       "0          1  7B37671243835EDF2C992B2B789BD72D6884A354   \n",
       "1          2  83E3036CA1877343E75840D4FAF0851620AC0772   \n",
       "2          3  C9145979C7A394C6CB58A5E7CC0445C9E3B7F652   \n",
       "3          4  761AFAC85C27CFFB38943C3573A574960471879A   \n",
       "4          5  7F5E7E1B041BD896327FE8577935B1503CF0A53F   \n",
       "...      ...                                       ...   \n",
       "58171  58172  F48D49C2939AF86A653C0FA9C49553EC2DB32DE8   \n",
       "58172  58173  F1E4F0385AE921EB7D488EFDAD2D452CC08ED6DA   \n",
       "58173  58174  F8D2ECB56B180A9FD5665406B1906801CB77A581   \n",
       "58174  58175  6284E5BF5D8C6466C53F207D2464E3C9AE759812   \n",
       "58175  58176  57F541F2E39A7C060E8357E2D93192607B2F7378   \n",
       "\n",
       "                               Agency          Agency Division  \\\n",
       "0      ABE LINCOLN PRES LIBRARY & MUS      ALPLM FTE EMPLOYEES   \n",
       "1      ABE LINCOLN PRES LIBRARY & MUS      ALPLM FTE EMPLOYEES   \n",
       "2      ABE LINCOLN PRES LIBRARY & MUS      ALPLM FTE EMPLOYEES   \n",
       "3      ABE LINCOLN PRES LIBRARY & MUS      ALPLM FTE EMPLOYEES   \n",
       "4      ABE LINCOLN PRES LIBRARY & MUS      ALPLM FTE EMPLOYEES   \n",
       "...                               ...                      ...   \n",
       "58171               VETERANS' AFFAIRS  VETERANS SERVICE OFFICE   \n",
       "58172               VETERANS' AFFAIRS  VETERANS SERVICE OFFICE   \n",
       "58173               VETERANS' AFFAIRS  VETERANS SERVICE OFFICE   \n",
       "58174               VETERANS' AFFAIRS  VETERANS SERVICE OFFICE   \n",
       "58175               VETERANS' AFFAIRS  VETERANS SERVICE OFFICE   \n",
       "\n",
       "           Employee Name            Position Title  Period Pay Rate  YTD Gross  \n",
       "0       DARIAN FERNANDES     ACCOUNT TECHNICIAN II             2100      48400  \n",
       "1      AUSTIN FRIEDMEYER  BUILDING/GROUNDS LABORER              800      60400  \n",
       "2           BRIAN DANAHA  BUILDING/GROUNDS LABORER             2000      45000  \n",
       "3           HAROLD STURM  BUILDING/GROUNDS LABORER             2100      42500  \n",
       "4           STEVE FALICA  BUILDING/GROUNDS LABORER             2600      78600  \n",
       "...                  ...                       ...              ...        ...  \n",
       "58171       TYLER JANIAK  VETERANS SERVICE OFFICER             3000      62000  \n",
       "58172      WALTER WILSON  VETERANS SERVICE OFFICER             3000      62100  \n",
       "58173       WILLIAM ILLA  VETERANS SERVICE OFFICER             2500      51700  \n",
       "58174     WILLIAM LINDER  VETERANS SERVICE OFFICER             2100      42700  \n",
       "58175    ZACHARY GRATTAN  VETERANS SERVICE OFFICER             3000      62100  \n",
       "\n",
       "[58176 rows x 8 columns]"
      ]
     },
     "execution_count": 8,
     "metadata": {},
     "output_type": "execute_result"
    }
   ],
   "source": [
    "dataset"
   ]
  },
  {
   "cell_type": "code",
   "execution_count": 9,
   "id": "e848784b",
   "metadata": {},
   "outputs": [
    {
     "data": {
      "text/plain": [
       "array(['ABE LINCOLN PRES LIBRARY & MUS', 'AGING', 'AGRICULTURE',\n",
       "       'ATTORNEY GENERAL', 'BOARD OF HIGHER EDUCATION',\n",
       "       'CAPITAL DEVELOPMENT BOARD', 'CENTRAL MANAGEMENT',\n",
       "       'CHILDREN AND FAMILY SERVICES', 'CIVIL SERVICE COMMISSION',\n",
       "       'COMM ON EQUITY & INCLUSION', 'COMMERCE AND ECONOMIC OPPORTUN',\n",
       "       'COMMISSION ON HUMAN RIGHTS', 'COMPREHNSIVE HLTH INSURANCE BD',\n",
       "       'COMPTROLLER', 'CORONER TRAINING BOARD', 'CORRECTIONS',\n",
       "       'COUNCIL ON DEVELOPMENTAL DISAB', 'COURT OF CLAIMS',\n",
       "       'COURTS COMMISSION', 'DEAF & HARD OF HEARING COMM',\n",
       "       'EMPLOYMENT SECURITY', 'ENVIRONMENTAL PROTECT AGENCY',\n",
       "       'EXECUTIVE ETHICS COMMISSION', 'FINANCIAL AND PROFESSIONAL REG',\n",
       "       'GOVERNOR', \"GOVERNOR'S OFF OF MGT & BUDGET\",\n",
       "       'GUARDIAN & ADVOCACY COMM', 'HEALTHCARE & FAMILY SERVICES',\n",
       "       'HUMAN RIGHTS', 'HUMAN SERVICES', 'IL ARTS COUNCIL',\n",
       "       'IL COMMERCE COMMISSION', 'IL COMMUNITY COLLEGE BOARD',\n",
       "       'IL CRIMINAL JUSTICE INFO AUTH', 'IL EDUCAT LABOR RELATIONS BD',\n",
       "       'IL EMERGENCY MANAGEMENT AGCY', 'IL INDEPENDENT TAX TRIBUNAL',\n",
       "       'IL LABOR RELATIONS BOARD', 'IL LAW ENFORCE TRAIN & STDS BD',\n",
       "       'IL MATH AND SCIENCE ACADEMY', 'IL STATE BOARD OF INVESTMENTS',\n",
       "       'IL STATE TOLL HIGHWAY AUTH', 'IL STUDENT ASSISTANCE COMM',\n",
       "       \"IL WORKERS' COMPENSATION COMMI\", 'ILLINOIS GAMING BOARD',\n",
       "       'ILLINOIS POWER AGENCY', 'INNOVATION AND TECHNOLOGY', 'INSURANCE',\n",
       "       'JUVENILE JUSTICE', 'LABOR', 'LEGISLATIVE INSPECTOR GENERAL',\n",
       "       'LIEUTENANT GOVERNOR', 'LIQUOR CONTROL COMM', 'MILITARY AFFAIRS',\n",
       "       'NATURAL RESOURCES', 'OFFICE OF INSPECTOR GENERAL',\n",
       "       'OFFICE OF THE STATE FIRE MARSH', 'PRISONER REVIEW BOARD',\n",
       "       'PROCUREMENT POLICY BOARD', 'PROPERTY TAX APPEAL BOARD',\n",
       "       'PUBLIC HEALTH', 'RACING BOARD', 'REVENUE', 'SECRETARY OF STATE',\n",
       "       'STATE BOARD OF EDUCATION', 'STATE BOARD OF ELECTIONS',\n",
       "       \"STATE EMPLOYEES' RETIRE SYSTEM\", 'STATE LOTTERY', 'STATE POLICE',\n",
       "       'STATE POLICE MERIT BOARD', 'STATE UNIV CIVIL SERV MERIT BD',\n",
       "       \"TEACHERS' RETIREMENT SYSTEM\", 'TRANSPORTATION', 'TREASURER',\n",
       "       \"VETERANS' AFFAIRS\"], dtype=object)"
      ]
     },
     "execution_count": 9,
     "metadata": {},
     "output_type": "execute_result"
    }
   ],
   "source": [
    "dataset['Agency'].unique()"
   ]
  },
  {
   "cell_type": "code",
   "execution_count": 10,
   "id": "5badafcc",
   "metadata": {},
   "outputs": [
    {
     "data": {
      "text/plain": [
       "array(['ACCOUNT TECHNICIAN II', 'BUILDING/GROUNDS LABORER',\n",
       "       'BUILDING/GROUNDS LEAD I', ..., 'LAUNDRY MANAGER I',\n",
       "       'VETERANS EDUCATIONAL SPEC III', 'VETERANS SERVICE OFFICER'],\n",
       "      dtype=object)"
      ]
     },
     "execution_count": 10,
     "metadata": {},
     "output_type": "execute_result"
    }
   ],
   "source": [
    "dataset['Position Title'].unique()"
   ]
  },
  {
   "cell_type": "code",
   "execution_count": 11,
   "id": "722cd43d",
   "metadata": {},
   "outputs": [
    {
     "data": {
      "text/plain": [
       "['.', ',', 'o', 'v']"
      ]
     },
     "execution_count": 11,
     "metadata": {},
     "output_type": "execute_result"
    }
   ],
   "source": [
    "from matplotlib.lines import Line2D\n",
    "markersDict = Line2D.markers\n",
    "markersDict.keys()\n",
    "markers = []\n",
    "for m in markersDict:\n",
    "    if 'None' not in str(m) and len(str(m).strip())>0:\n",
    "        markers.append(m)\n",
    "markers[:4]"
   ]
  },
  {
   "cell_type": "code",
   "execution_count": 12,
   "id": "ebc16f65",
   "metadata": {},
   "outputs": [
    {
     "data": {
      "text/html": [
       "<div>\n",
       "<style scoped>\n",
       "    .dataframe tbody tr th:only-of-type {\n",
       "        vertical-align: middle;\n",
       "    }\n",
       "\n",
       "    .dataframe tbody tr th {\n",
       "        vertical-align: top;\n",
       "    }\n",
       "\n",
       "    .dataframe thead th {\n",
       "        text-align: right;\n",
       "    }\n",
       "</style>\n",
       "<table border=\"1\" class=\"dataframe\">\n",
       "  <thead>\n",
       "    <tr style=\"text-align: right;\">\n",
       "      <th></th>\n",
       "      <th>_id</th>\n",
       "      <th>Id</th>\n",
       "      <th>Agency</th>\n",
       "      <th>Agency Division</th>\n",
       "      <th>Employee Name</th>\n",
       "      <th>Position Title</th>\n",
       "      <th>Period Pay Rate</th>\n",
       "      <th>YTD Gross</th>\n",
       "    </tr>\n",
       "  </thead>\n",
       "  <tbody>\n",
       "    <tr>\n",
       "      <th>0</th>\n",
       "      <td>1</td>\n",
       "      <td>7B37671243835EDF2C992B2B789BD72D6884A354</td>\n",
       "      <td>ABE LINCOLN PRES LIBRARY &amp; MUS</td>\n",
       "      <td>ALPLM FTE EMPLOYEES</td>\n",
       "      <td>DARIAN FERNANDES</td>\n",
       "      <td>ACCOUNT TECHNICIAN II</td>\n",
       "      <td>2100</td>\n",
       "      <td>48400</td>\n",
       "    </tr>\n",
       "    <tr>\n",
       "      <th>1</th>\n",
       "      <td>2</td>\n",
       "      <td>83E3036CA1877343E75840D4FAF0851620AC0772</td>\n",
       "      <td>ABE LINCOLN PRES LIBRARY &amp; MUS</td>\n",
       "      <td>ALPLM FTE EMPLOYEES</td>\n",
       "      <td>AUSTIN FRIEDMEYER</td>\n",
       "      <td>BUILDING/GROUNDS LABORER</td>\n",
       "      <td>800</td>\n",
       "      <td>60400</td>\n",
       "    </tr>\n",
       "    <tr>\n",
       "      <th>2</th>\n",
       "      <td>3</td>\n",
       "      <td>C9145979C7A394C6CB58A5E7CC0445C9E3B7F652</td>\n",
       "      <td>ABE LINCOLN PRES LIBRARY &amp; MUS</td>\n",
       "      <td>ALPLM FTE EMPLOYEES</td>\n",
       "      <td>BRIAN DANAHA</td>\n",
       "      <td>BUILDING/GROUNDS LABORER</td>\n",
       "      <td>2000</td>\n",
       "      <td>45000</td>\n",
       "    </tr>\n",
       "    <tr>\n",
       "      <th>3</th>\n",
       "      <td>4</td>\n",
       "      <td>761AFAC85C27CFFB38943C3573A574960471879A</td>\n",
       "      <td>ABE LINCOLN PRES LIBRARY &amp; MUS</td>\n",
       "      <td>ALPLM FTE EMPLOYEES</td>\n",
       "      <td>HAROLD STURM</td>\n",
       "      <td>BUILDING/GROUNDS LABORER</td>\n",
       "      <td>2100</td>\n",
       "      <td>42500</td>\n",
       "    </tr>\n",
       "    <tr>\n",
       "      <th>4</th>\n",
       "      <td>5</td>\n",
       "      <td>7F5E7E1B041BD896327FE8577935B1503CF0A53F</td>\n",
       "      <td>ABE LINCOLN PRES LIBRARY &amp; MUS</td>\n",
       "      <td>ALPLM FTE EMPLOYEES</td>\n",
       "      <td>STEVE FALICA</td>\n",
       "      <td>BUILDING/GROUNDS LABORER</td>\n",
       "      <td>2600</td>\n",
       "      <td>78600</td>\n",
       "    </tr>\n",
       "  </tbody>\n",
       "</table>\n",
       "</div>"
      ],
      "text/plain": [
       "   _id                                        Id  \\\n",
       "0    1  7B37671243835EDF2C992B2B789BD72D6884A354   \n",
       "1    2  83E3036CA1877343E75840D4FAF0851620AC0772   \n",
       "2    3  C9145979C7A394C6CB58A5E7CC0445C9E3B7F652   \n",
       "3    4  761AFAC85C27CFFB38943C3573A574960471879A   \n",
       "4    5  7F5E7E1B041BD896327FE8577935B1503CF0A53F   \n",
       "\n",
       "                           Agency      Agency Division      Employee Name  \\\n",
       "0  ABE LINCOLN PRES LIBRARY & MUS  ALPLM FTE EMPLOYEES   DARIAN FERNANDES   \n",
       "1  ABE LINCOLN PRES LIBRARY & MUS  ALPLM FTE EMPLOYEES  AUSTIN FRIEDMEYER   \n",
       "2  ABE LINCOLN PRES LIBRARY & MUS  ALPLM FTE EMPLOYEES       BRIAN DANAHA   \n",
       "3  ABE LINCOLN PRES LIBRARY & MUS  ALPLM FTE EMPLOYEES       HAROLD STURM   \n",
       "4  ABE LINCOLN PRES LIBRARY & MUS  ALPLM FTE EMPLOYEES       STEVE FALICA   \n",
       "\n",
       "             Position Title  Period Pay Rate  YTD Gross  \n",
       "0     ACCOUNT TECHNICIAN II             2100      48400  \n",
       "1  BUILDING/GROUNDS LABORER              800      60400  \n",
       "2  BUILDING/GROUNDS LABORER             2000      45000  \n",
       "3  BUILDING/GROUNDS LABORER             2100      42500  \n",
       "4  BUILDING/GROUNDS LABORER             2600      78600  "
      ]
     },
     "execution_count": 12,
     "metadata": {},
     "output_type": "execute_result"
    }
   ],
   "source": [
    "dataset.head()"
   ]
  },
  {
   "cell_type": "code",
   "execution_count": 13,
   "id": "be05136e",
   "metadata": {},
   "outputs": [],
   "source": [
    "axis_names_subset = ['Agency', 'Agency Division', 'Position Title', 'Employee Name', 'Period Pay Rate', 'YTD Gross']\n",
    "color_subset = ['Period Pay Rate', 'YTD Gross']"
   ]
  },
  {
   "cell_type": "code",
   "execution_count": 20,
   "id": "2e754443",
   "metadata": {},
   "outputs": [
    {
     "data": {
      "application/vnd.jupyter.widget-view+json": {
       "model_id": "3ac3fbc684dd43b8b896417e07ec786a",
       "version_major": 2,
       "version_minor": 0
      },
      "text/plain": [
       "interactive(children=(Dropdown(description='xname', options=('Agency', 'Agency Division', 'Position Title', 'E…"
      ]
     },
     "metadata": {},
     "output_type": "display_data"
    }
   ],
   "source": [
    "@ipywidgets.interact(xname = axis_names_subset, yname = axis_names_subset,\n",
    "cmap = plt.colormaps(), \n",
    "color_variable = color_subset,\n",
    "marker=markers)\n",
    "def make_scatter(xname, yname, cmap, color_variable, marker):\n",
    "    x = dataset[xname]\n",
    "    y = dataset[yname]\n",
    "    plt.scatter(x,y, c=dataset[color_variable], cmap=cmap, marker=marker)\n",
    "    plt.show"
   ]
  },
  {
   "cell_type": "code",
   "execution_count": 15,
   "id": "3bd39364",
   "metadata": {},
   "outputs": [
    {
     "data": {
      "application/vnd.jupyter.widget-view+json": {
       "model_id": "fe34ec59270d4103b1ca82b6bf7c9caf",
       "version_major": 2,
       "version_minor": 0
      },
      "text/plain": [
       "interactive(children=(Dropdown(description='bin_by', options=('Agency', 'Position Title', 'Period Pay Rate', '…"
      ]
     },
     "metadata": {},
     "output_type": "display_data"
    }
   ],
   "source": [
    "columns_list = ['Agency', 'Position Title', 'Period Pay Rate', 'YTD Gross']\n",
    "@ipywidgets.interact(bin_by = columns_list, nbins = np.arange(10,100))\n",
    "def make_scatter(bin_by, nbins):\n",
    "    fig, ax = plt.subplots(figsize=(50, 10))\n",
    "    \n",
    "    if dataset[bin_by].dtype != 'float64' and dataset[bin_by].dtype != 'int64':\n",
    "        myseries = dataset.groupby(bin_by)[bin_by].count()\n",
    "        x = myseries.index\n",
    "        y = myseries.values\n",
    "        ax.bar(x, y)\n",
    "        \n",
    "    else: \n",
    "        dataset.hist(column=bin_by, ax=ax, bins=nbins)\n",
    "        fig.autofmt_xdate(rotation=90)\n",
    "        plt.show()"
   ]
  },
  {
   "cell_type": "code",
   "execution_count": 16,
   "id": "83b6767a",
   "metadata": {},
   "outputs": [],
   "source": [
    "#The file size is 8.1 MB. In items, it is 581 rows long. It is not larger than the GitHub upload limit.\n",
    "#The URL is: https://data.illinois.gov/dataset/724state_employee_pay\n",
    "\n"
   ]
  },
  {
   "cell_type": "code",
   "execution_count": 17,
   "id": "10d16bfc",
   "metadata": {},
   "outputs": [],
   "source": [
    "#Write-Up: \n",
    "#The first graph I have is an interactive one that shows and compares information from the data set, which are the agencies, agency division, employee name, position title, period pay rate and YTD Gross. \n",
    "#The second graph, is a bar graph that shows the correlation of the Agency, Position Title, Period Pay Rate and the YTD (Year to Date) Gross of the dataset I chose.\n",
    "#I made two graphs that visually show the information from the dataset."
   ]
  },
  {
   "cell_type": "code",
   "execution_count": 18,
   "id": "255a822d",
   "metadata": {},
   "outputs": [],
   "source": [
    "#Team Member: Dayanna Garcia"
   ]
  },
  {
   "cell_type": "code",
   "execution_count": null,
   "id": "83de584c",
   "metadata": {},
   "outputs": [],
   "source": []
  }
 ],
 "metadata": {
  "kernelspec": {
   "display_name": "Python 3 (ipykernel)",
   "language": "python",
   "name": "python3"
  },
  "language_info": {
   "codemirror_mode": {
    "name": "ipython",
    "version": 3
   },
   "file_extension": ".py",
   "mimetype": "text/x-python",
   "name": "python",
   "nbconvert_exporter": "python",
   "pygments_lexer": "ipython3",
   "version": "3.7.12"
  }
 },
 "nbformat": 4,
 "nbformat_minor": 5
}
